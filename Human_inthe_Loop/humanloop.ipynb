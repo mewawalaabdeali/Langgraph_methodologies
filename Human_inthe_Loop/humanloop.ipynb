{
 "cells": [
  {
   "cell_type": "code",
   "execution_count": 26,
   "id": "4732a98c",
   "metadata": {},
   "outputs": [
    {
     "data": {
      "text/plain": [
       "AIMessage(content='<think>\\nOkay, the user is asking for a quick one-liner. Let me think about what they might need. They probably want something catchy or memorable. Maybe a quote, a joke, or a motivational line? Since they didn\\'t specify the context, I should aim for something universally appealing.\\n\\nHmm, quotes are always a good bet. Let me recall some famous ones. \"Carpe diem\" is classic, but maybe too common. How about something from a movie or a book? \"May the Force be with you\" is good, but again, maybe overused. Maybe a more original line?\\n\\nThey could be looking for inspiration. Something like \"Success is 99% failure and 1% luck\" – wait, isn\\'t that a twist on Edison\\'s quote? Maybe not accurate. Let me check. Edison said something like \"Genius is 1% inspiration and 99% perspiration.\" So flipping that might be creative. But is it okay to alter quotes? Maybe the user wants something original.\\n\\nAlternatively, a witty one-liner. \"The only way to do great work is to love what you do.\" Steve Jobs\\' quote, but again, common. Let me think of a fresh line. Maybe something about perseverance or overcoming challenges. Or a pun?\\n\\n\"Life is what happens when you\\'re busy making other plans.\" John Lennon\\'s line, but again, well-known. Maybe combine two ideas. \"Dream big, work hard, stay humble.\" That\\'s a popular one. Or a one-liner about learning from mistakes. \"A journey of a thousand miles begins with a single step.\" Lao Tzu, again classic.\\n\\nWait, the user might want something more unique. Let me brainstorm. \"The future belongs to those who believe in the beauty of their dreams.\" Also from Eleanor Roosevelt. Maybe too long. Let\\'s keep it concise. \"Believe you can and you\\'re halfway there.\" Theodore Roosevelt. Hmm.\\n\\nAlternatively, create a new one. Maybe something like \"Every challenge is a chance to grow stronger.\" Or \"Smile, it\\'s the key that locks people in.\" Wait, that\\'s a bit forced. How about a humorous take? \"I\\'m not arguing, I\\'m just explaining why I\\'m right.\" Classic joke.\\n\\nBut the user might want something positive. Let me go back. The user asked for a \"one liner\" quickly, so maybe they need it for a signature, a social media post, or a quick message. Let\\'s pick something uplifting and concise. \"Chase your dreams, but don\\'t forget to live your life.\" Not sure. \"Do what you love, love what you do.\" Maybe too cliché.\\n\\nWait, what about \"The best way to predict the future is to create it.\" Peter Drucker. Good one. Not too long. Alternatively, \"Act as if what you do makes a difference. It does.\" William James.\\n\\nI think the user wants something that\\'s impactful but not too long. Let me settle on a solid one. \"Success is not final, failure is not fatal: It is the courage to continue that counts.\" Winston Churchill. But that\\'s two sentences. Need a one-liner.\\n\\nOkay, maybe \"The only limit to your impact is your imagination and commitment.\" Tony Robbins. Still a bit long. Let me think again. \"Dream it. Wish it. Do it.\" Nike? No, that\\'s \"Just Do It.\" Maybe \"Make it happen.\" From the 70s. Not original.\\n\\nWait, perhaps a simple and powerful one: \"You miss 100% of the shots you don\\'t take.\" Wayne Gretzky. That\\'s good. Concise and impactful. Or \"The early bird gets the worm, but the second mouse gets the cheese.\" Not sure. \\n\\nI think the best bet is to go with a well-known quote that\\'s concise. \"Carpe diem. Seize the day.\" From the movie Dead Poets Society. That\\'s short and effective. Alternatively, \"Just do it.\" But that\\'s a slogan. Maybe the user wants a quote. Let me confirm. The user said \"one liner,\" so any of these would work. I\\'ll go with \"Carpe diem. Seize the day.\" as it\\'s brief and meaningful.\\n</think>\\n\\n\"Carpe diem—seize the day, for yesterday is history and tomorrow is a mystery.\"', additional_kwargs={}, response_metadata={'token_usage': {'completion_tokens': 273, 'prompt_tokens': 647, 'total_tokens': 920, 'completion_time': 0.583953144, 'prompt_time': 0.025018861, 'queue_time': 2.906440609, 'total_time': 0.608972005}, 'model_name': 'qwen/qwen3-32b', 'system_fingerprint': 'fp_57dfb5ae7c', 'finish_reason': 'stop', 'logprobs': None}, id='run--8f18f6c5-a85d-4258-8fc4-caceb82218db-0', usage_metadata={'input_tokens': 647, 'output_tokens': 273, 'total_tokens': 920})"
      ]
     },
     "execution_count": 26,
     "metadata": {},
     "output_type": "execute_result"
    }
   ],
   "source": [
    "from dotenv import load_dotenv\n",
    "import os\n",
    "from langchain_openai import ChatOpenAI\n",
    "from langchain_groq import ChatGroq\n",
    "\n",
    "load_dotenv()\n",
    "\n",
    "model_llm = ChatOpenAI(model='gpt-4o')\n",
    "model = ChatGroq(model = \"qwen/qwen3-32b\")\n",
    "result = model.invoke(\"Give me a quick one liner\")\n",
    "result"
   ]
  },
  {
   "cell_type": "markdown",
   "id": "3e139bb3",
   "metadata": {},
   "source": [
    "### Custom TOols"
   ]
  },
  {
   "cell_type": "code",
   "execution_count": 27,
   "id": "d20983ed",
   "metadata": {},
   "outputs": [
    {
     "data": {
      "text/plain": [
       "[<function __main__.add(a: int, b: int) -> int>,\n",
       " <function __main__.multiply(a: int, b: int) -> int>,\n",
       " <function __main__.divide(a: int, b: int) -> int>]"
      ]
     },
     "execution_count": 27,
     "metadata": {},
     "output_type": "execute_result"
    }
   ],
   "source": [
    "def multiply(a:int, b:int)-> int:\n",
    "    \"\"\"Multiply a and b\n",
    "    Args:\n",
    "    a: first int\n",
    "    b: second int\n",
    "    \"\"\"\n",
    "    return a*b\n",
    "\n",
    "def add(a:int, b:int)->int:\n",
    "    \"\"\"Add a and b\n",
    "    Args:\n",
    "    a: first int\n",
    "    b: second int\n",
    "    \"\"\"\n",
    "    return a + b\n",
    "\n",
    "def divide(a:int, b:int)->int:\n",
    "    \"\"\"Divide a and b\n",
    "    Args:\n",
    "    a: first int\n",
    "    b: second int\n",
    "    \"\"\"\n",
    "    return a /b\n",
    "\n",
    "tools = [add, multiply, divide]\n",
    "tools"
   ]
  },
  {
   "cell_type": "code",
   "execution_count": 28,
   "id": "c0851c12",
   "metadata": {},
   "outputs": [
    {
     "data": {
      "text/plain": [
       "AIMessage(content='', additional_kwargs={'reasoning_content': 'Okay, the user is asking \"whats 12 & 13\". Let me figure out what they need. The ampersand here might be a typo for \"and\", so they probably want to know the result of adding, multiplying, or dividing 12 and 13. Since they didn\\'t specify the operation, I should consider the most common ones.\\n\\nLooking at the available tools, there are functions for add, multiply, and divide. If I assume they want the sum, I can use the add function. But maybe they want the product? Without more context, it\\'s hard to tell. However, the user might just be asking for the numbers 12 and 13 as in \"what are they?\" but that seems less likely. Since they used \"whats\" followed by two numbers separated by an ampersand, it\\'s more likely a math operation. \\n\\nI should check if there\\'s a standard operation for this. In some contexts, \"&\" can mean multiplication, but usually, it\\'s addition. But in math, \"&\" isn\\'t a standard operator. So maybe the user intended \"and\" as in adding them. Alternatively, they might have meant a bitwise AND, but the tools provided don\\'t include that. The available functions are add, multiply, divide. \\n\\nSince I have to choose one, I\\'ll go with addition because it\\'s the most straightforward. So I\\'ll call the add function with a=12 and b=13. The result would be 25. If the user meant something else, they can clarify, but based on the tools given, adding is the safest bet.\\n', 'tool_calls': [{'id': '7wfqvss1j', 'function': {'arguments': '{\"a\":12,\"b\":13}', 'name': 'add'}, 'type': 'function'}]}, response_metadata={'token_usage': {'completion_tokens': 368, 'prompt_tokens': 267, 'total_tokens': 635, 'completion_time': 0.801648793, 'prompt_time': 0.01021403, 'queue_time': 0.011883223, 'total_time': 0.811862823}, 'model_name': 'qwen/qwen3-32b', 'system_fingerprint': 'fp_57dfb5ae7c', 'finish_reason': 'tool_calls', 'logprobs': None}, id='run--aa01bbda-24fe-42ae-8297-32737c970379-0', tool_calls=[{'name': 'add', 'args': {'a': 12, 'b': 13}, 'id': '7wfqvss1j', 'type': 'tool_call'}], usage_metadata={'input_tokens': 267, 'output_tokens': 368, 'total_tokens': 635})"
      ]
     },
     "execution_count": 28,
     "metadata": {},
     "output_type": "execute_result"
    }
   ],
   "source": [
    "models_with_tools = model.bind_tools(tools)\n",
    "\n",
    "models_with_tools.invoke(\"whats 12 & 13\")"
   ]
  },
  {
   "cell_type": "markdown",
   "id": "020ae442",
   "metadata": {},
   "source": [
    "### Importing Libraries for Langgraph"
   ]
  },
  {
   "cell_type": "code",
   "execution_count": 29,
   "id": "579bd48a",
   "metadata": {},
   "outputs": [],
   "source": [
    "from langgraph.checkpoint.memory import MemorySaver\n",
    "from langgraph.graph import MessagesState\n",
    "from langgraph.graph import START, StateGraph\n",
    "from langgraph.prebuilt import tools_condition, ToolNode\n",
    "from langchain_core.messages import AIMessage, HumanMessage, SystemMessage\n",
    "\n",
    "##System Message\n",
    "sys_msg = SystemMessage(content=\"You are a helpful assistant tasked with performing arithmetic on a set of inputs.\")\n",
    "\n",
    "#node\n",
    "def assistant(state:MessagesState):\n",
    "    return {\"messages\":[models_with_tools.invoke([sys_msg] + state[\"messages\"])]}\n",
    "\n",
    "#Graph\n",
    "builder = StateGraph(MessagesState)\n",
    "\n",
    "#add node\n",
    "builder.add_node(\"assistant\", assistant)\n",
    "builder.add_node(\"tools\", ToolNode(tools))\n",
    "\n",
    "#add edges\n",
    "builder.add_edge(START, \"assistant\")\n",
    "builder.add_conditional_edges(\n",
    "    \"assistant\",\n",
    "    #if the latest message(result) from the assistant is a tool call -> tools_condition routes to tools\n",
    "    #if the latest message(result) from assistant is not a tool call -> tools_condition routes to end\n",
    "    tools_condition,\n",
    ")\n",
    "\n",
    "builder.add_edge(\"tools\", \"assistant\")\n",
    "memory = MemorySaver()\n",
    "#builder.compile(interrupt_before=[\"assistant\"],checkpointer=memory)\n",
    "graph = builder.compile(interrupt_before=[\"assistant\"],checkpointer=memory)"
   ]
  },
  {
   "cell_type": "code",
   "execution_count": 30,
   "id": "0d725cf5",
   "metadata": {},
   "outputs": [],
   "source": [
    "thread = {\"configurable\":{\"thread_id\":\"123\"}}\n",
    "initial_input = {\"messages\":HumanMessage(content=\"Multiply 2 & 5\")}"
   ]
  },
  {
   "cell_type": "code",
   "execution_count": 31,
   "id": "6e113d07",
   "metadata": {},
   "outputs": [
    {
     "name": "stdout",
     "output_type": "stream",
     "text": [
      "================================\u001b[1m Human Message \u001b[0m=================================\n",
      "\n",
      "Multiply 2 & 5\n"
     ]
    }
   ],
   "source": [
    "for event in graph.stream(initial_input, thread, stream_mode=\"values\"):\n",
    "    event['messages'][-1].pretty_print()"
   ]
  },
  {
   "cell_type": "code",
   "execution_count": 32,
   "id": "bebf03e3",
   "metadata": {},
   "outputs": [
    {
     "data": {
      "text/plain": [
       "('assistant',)"
      ]
     },
     "execution_count": 32,
     "metadata": {},
     "output_type": "execute_result"
    }
   ],
   "source": [
    "state = graph.get_state(thread)\n",
    "state.next\n"
   ]
  },
  {
   "cell_type": "code",
   "execution_count": 33,
   "id": "7e9433ff",
   "metadata": {},
   "outputs": [
    {
     "name": "stdout",
     "output_type": "stream",
     "text": [
      "================================\u001b[1m Human Message \u001b[0m=================================\n",
      "\n",
      "Multiply 2 & 5\n",
      "==================================\u001b[1m Ai Message \u001b[0m==================================\n",
      "Tool Calls:\n",
      "  multiply (gzy1njyj0)\n",
      " Call ID: gzy1njyj0\n",
      "  Args:\n",
      "    a: 2\n",
      "    b: 5\n",
      "=================================\u001b[1m Tool Message \u001b[0m=================================\n",
      "Name: multiply\n",
      "\n",
      "10\n"
     ]
    }
   ],
   "source": [
    "for event in graph.stream(None, thread, stream_mode=\"values\"):\n",
    "    event['messages'][-1].pretty_print()"
   ]
  },
  {
   "cell_type": "code",
   "execution_count": 34,
   "id": "7b55cdc4",
   "metadata": {},
   "outputs": [
    {
     "data": {
      "text/plain": [
       "('assistant',)"
      ]
     },
     "execution_count": 34,
     "metadata": {},
     "output_type": "execute_result"
    }
   ],
   "source": [
    "state = graph.get_state(thread)\n",
    "state.next"
   ]
  },
  {
   "cell_type": "code",
   "execution_count": 35,
   "id": "37ca8dbd",
   "metadata": {},
   "outputs": [
    {
     "data": {
      "text/plain": [
       "StateSnapshot(values={'messages': [HumanMessage(content='Multiply 2 & 5', additional_kwargs={}, response_metadata={}, id='c5c9a5a1-54a4-44d0-ae60-84d4dd7f2d84'), AIMessage(content='', additional_kwargs={'reasoning_content': \"Okay, the user wants to multiply 2 and 5. Let me check the available functions. There's a multiply function that takes two integers, a and b. So I need to call that. The parameters should be a:2 and b:5. I'll make sure to format the tool call correctly in JSON inside the XML tags.\\n\", 'tool_calls': [{'id': 'gzy1njyj0', 'function': {'arguments': '{\"a\":2,\"b\":5}', 'name': 'multiply'}, 'type': 'function'}]}, response_metadata={'token_usage': {'completion_tokens': 99, 'prompt_tokens': 279, 'total_tokens': 378, 'completion_time': 0.140749563, 'prompt_time': 0.010752387, 'queue_time': 0.012326703999999999, 'total_time': 0.15150195}, 'model_name': 'qwen/qwen3-32b', 'system_fingerprint': 'fp_ea13068061', 'finish_reason': 'tool_calls', 'logprobs': None}, id='run--c524550e-875d-4245-b013-d2084fb7f642-0', tool_calls=[{'name': 'multiply', 'args': {'a': 2, 'b': 5}, 'id': 'gzy1njyj0', 'type': 'tool_call'}], usage_metadata={'input_tokens': 279, 'output_tokens': 99, 'total_tokens': 378}), ToolMessage(content='10', name='multiply', id='1e1149a2-98ef-42df-88e3-c6bf03f29a86', tool_call_id='gzy1njyj0')]}, next=('assistant',), config={'configurable': {'thread_id': '123', 'checkpoint_ns': '', 'checkpoint_id': '1f061016-3d4f-63f3-8002-8005eff247f3'}}, metadata={'source': 'loop', 'step': 2, 'parents': {}, 'thread_id': '123'}, created_at='2025-07-14T22:25:04.624741+00:00', parent_config={'configurable': {'thread_id': '123', 'checkpoint_ns': '', 'checkpoint_id': '1f061016-3d48-6585-8001-3ac1cb4b7068'}}, tasks=(PregelTask(id='5db7dddb-5c6a-261c-cfee-6eebe48bc4c8', name='assistant', path=('__pregel_pull', 'assistant'), error=None, interrupts=(), state=None, result=None),), interrupts=())"
      ]
     },
     "execution_count": 35,
     "metadata": {},
     "output_type": "execute_result"
    }
   ],
   "source": [
    "state"
   ]
  },
  {
   "cell_type": "code",
   "execution_count": 36,
   "id": "4ed74959",
   "metadata": {},
   "outputs": [
    {
     "name": "stdout",
     "output_type": "stream",
     "text": [
      "================================\u001b[1m Human Message \u001b[0m=================================\n",
      "\n",
      "Multiply 3 & 5\n"
     ]
    }
   ],
   "source": [
    "initial_input = {\"messages\":HumanMessage(content=\"Multiply 3 & 5\")}\n",
    "thread = {\"configurable\":{\"thread_id\":\"1\"}}\n",
    "for event in graph.stream(initial_input, thread, stream_mode=\"values\"):\n",
    "    event['messages'][-1].pretty_print()"
   ]
  },
  {
   "cell_type": "code",
   "execution_count": 37,
   "id": "beb03990",
   "metadata": {},
   "outputs": [
    {
     "data": {
      "text/plain": [
       "('assistant',)"
      ]
     },
     "execution_count": 37,
     "metadata": {},
     "output_type": "execute_result"
    }
   ],
   "source": [
    "state = graph.get_state(thread)\n",
    "state.next"
   ]
  },
  {
   "cell_type": "code",
   "execution_count": 38,
   "id": "30abb0f8",
   "metadata": {},
   "outputs": [
    {
     "data": {
      "text/plain": [
       "{'configurable': {'thread_id': '1',\n",
       "  'checkpoint_ns': '',\n",
       "  'checkpoint_id': '1f061a54-6190-6097-8001-ad90c3e35e32'}}"
      ]
     },
     "execution_count": 38,
     "metadata": {},
     "output_type": "execute_result"
    }
   ],
   "source": [
    "graph.update_state(thread, {\"messages\":[HumanMessage(content=\"No, please multiyp 15 & 8\")]})\n"
   ]
  },
  {
   "cell_type": "code",
   "execution_count": 40,
   "id": "72201eee",
   "metadata": {},
   "outputs": [
    {
     "name": "stdout",
     "output_type": "stream",
     "text": [
      "================================\u001b[1m Human Message \u001b[0m=================================\n",
      "\n",
      "Multiply 3 & 5\n",
      "================================\u001b[1m Human Message \u001b[0m=================================\n",
      "\n",
      "No, please multiyp 15 & 8\n"
     ]
    }
   ],
   "source": [
    "new_state = graph.get_state(thread).values\n",
    "\n",
    "for m in new_state['messages']:\n",
    "    m.pretty_print()"
   ]
  },
  {
   "cell_type": "code",
   "execution_count": 41,
   "id": "8a0ac26c",
   "metadata": {},
   "outputs": [
    {
     "name": "stdout",
     "output_type": "stream",
     "text": [
      "================================\u001b[1m Human Message \u001b[0m=================================\n",
      "\n",
      "No, please multiyp 15 & 8\n",
      "==================================\u001b[1m Ai Message \u001b[0m==================================\n",
      "Tool Calls:\n",
      "  multiply (5qgthypej)\n",
      " Call ID: 5qgthypej\n",
      "  Args:\n",
      "    a: 15\n",
      "    b: 8\n",
      "=================================\u001b[1m Tool Message \u001b[0m=================================\n",
      "Name: multiply\n",
      "\n",
      "120\n"
     ]
    }
   ],
   "source": [
    "for event in graph.stream(None, thread, stream_mode=\"values\"):\n",
    "    event['messages'][-1].pretty_print()"
   ]
  },
  {
   "cell_type": "markdown",
   "id": "40fd9614",
   "metadata": {},
   "source": [
    "### Workflow to wait for the User Input"
   ]
  },
  {
   "cell_type": "code",
   "execution_count": 42,
   "id": "3da73682",
   "metadata": {},
   "outputs": [],
   "source": [
    "#System Message\n",
    "sys_msg = SystemMessage(content=\"You are a helpful assistant tasked with performing arithmetic on a set of input\")\n",
    "\n",
    "##Human Feedback node\n",
    "def human_feedback(state: MessagesState):\n",
    "    pass\n",
    "\n",
    "###Assistant node\n",
    "def assistant(state:MessagesState):\n",
    "    return {\"messages\":[models_with_tools.invoke([sys_msg] + state[\"messages\"])]}\n",
    "\n",
    "#Graph\n",
    "builder = StateGraph(MessagesState)\n",
    "\n",
    "#Add nodes\n",
    "builder.add_node(\"assistant\", assistant)\n",
    "builder.add_node(\"tools\", ToolNode(tools))\n",
    "builder.add_node(\"human_feedback\", human_feedback)\n",
    "\n",
    "\n",
    "##Define the edges\n",
    "builder.add_edge(START, \"human_feedback\")\n",
    "builder.add_edge(\"human_feedback\", \"assistant\")\n",
    "builder.add_conditional_edges(\n",
    "    \"assistant\",\n",
    "    #If the latest message(result) from assistant is a tool call -> tools_condition routes to tools\n",
    "    #If the latest message(result) from assistant is not a tool call -> tools_conditions routes to END\n",
    "    tools_condition,\n",
    ")\n",
    "\n",
    "builder.add_edge(\"tools\", \"human_feedback\")\n",
    "\n",
    "memory = MemorySaver()\n",
    "graph = builder.compile(interrupt_before=[\"human_feedback\"], checkpointer=memory)\n"
   ]
  },
  {
   "cell_type": "code",
   "execution_count": 43,
   "id": "03dbc799",
   "metadata": {},
   "outputs": [
    {
     "data": {
      "image/png": "[encoded data removed]",
      "text/plain": [
       "<langgraph.graph.state.CompiledStateGraph object at 0x0000023BF9EAEE40>"
      ]
     },
     "execution_count": 43,
     "metadata": {},
     "output_type": "execute_result"
    }
   ],
   "source": [
    "graph"
   ]
  },
  {
   "cell_type": "code",
   "execution_count": 45,
   "id": "43e32aac",
   "metadata": {},
   "outputs": [
    {
     "name": "stdout",
     "output_type": "stream",
     "text": [
      "================================\u001b[1m Human Message \u001b[0m=================================\n",
      "\n",
      "Multiply 4 & 9\n",
      "================================\u001b[1m Human Message \u001b[0m=================================\n",
      "\n",
      "Multiply 88 and 96\n",
      "==================================\u001b[1m Ai Message \u001b[0m==================================\n",
      "Tool Calls:\n",
      "  multiply (qj7wjtyj0)\n",
      " Call ID: qj7wjtyj0\n",
      "  Args:\n",
      "    a: 88\n",
      "    b: 96\n",
      "=================================\u001b[1m Tool Message \u001b[0m=================================\n",
      "Name: multiply\n",
      "\n",
      "8448\n"
     ]
    }
   ],
   "source": [
    "#Input \n",
    "initial_input = {\"messages\":\"Multiply 4 & 9\"}\n",
    "\n",
    "#thread\n",
    "thread = {\"configurable\":{\"thread_id\":\"5\"}}\n",
    "\n",
    "#Run the graph until the first interruption\n",
    "for event in graph.stream(initial_input, thread, stream_mode=\"values\"):\n",
    "    event[\"messages\"][-1].pretty_print()\n",
    "\n",
    "#get user input\n",
    "\n",
    "user_input = input(\"Tell me how you want to update the state: \")\n",
    "graph.update_state(thread, {\"messages\":user_input}, as_node=\"human_feedback\")\n",
    "\n",
    "for event in graph.stream(None, thread, stream_mode=\"values\"):\n",
    "    event[\"messages\"][-1].pretty_print()"
   ]
  },
  {
   "cell_type": "code",
   "execution_count": 46,
   "id": "fe9772cf",
   "metadata": {},
   "outputs": [
    {
     "name": "stdout",
     "output_type": "stream",
     "text": [
      "=================================\u001b[1m Tool Message \u001b[0m=================================\n",
      "Name: multiply\n",
      "\n",
      "8448\n",
      "==================================\u001b[1m Ai Message \u001b[0m==================================\n",
      "\n",
      "The result of multiplying 88 and 96 is **8448**.\n"
     ]
    }
   ],
   "source": [
    "for event in graph.stream(None, thread, stream_mode=\"values\"):\n",
    "    event[\"messages\"][-1].pretty_print()"
   ]
  }
 ],
 "metadata": {
  "kernelspec": {
   "display_name": "Python 3",
   "language": "python",
   "name": "python3"
  },
  "language_info": {
   "codemirror_mode": {
    "name": "ipython",
    "version": 3
   },
   "file_extension": ".py",
   "mimetype": "text/x-python",
   "name": "python",
   "nbconvert_exporter": "python",
   "pygments_lexer": "ipython3",
   "version": "3.12.0"
  }
 },
 "nbformat": 4,
 "nbformat_minor": 5
}
